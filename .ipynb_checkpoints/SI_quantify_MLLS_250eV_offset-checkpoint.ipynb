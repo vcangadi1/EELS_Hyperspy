{
 "cells": [
  {
   "cell_type": "code",
   "execution_count": 27,
   "metadata": {},
   "outputs": [],
   "source": [
    "import hyperspy.api as hp\n",
    "import numpy as np\n",
    "import numpy.matlib\n",
    "%matplotlib qt5"
   ]
  },
  {
   "cell_type": "code",
   "execution_count": 28,
   "metadata": {},
   "outputs": [
    {
     "name": "stderr",
     "output_type": "stream",
     "text": [
      "WARNING:hyperspy.signal:<EELSSpectrum, title: EELS Spectrum Image disp0.5offset250time0.5s, dimensions: (44, 90|1024)> data is replaced by its optimized copy\n",
      "WARNING:hyperspy.signal:<EELSSpectrum, title: EELS Spectrum Image disp0.2offset0time0.1s, dimensions: (44, 90|1024)> data is replaced by its optimized copy\n"
     ]
    }
   ],
   "source": [
    "s = hp.load('/Users/veersaysit/Desktop/EELS data/Ge-basedSolarCell_24082015/EELS Spectrum Image disp0.5offset250time0.5s.dm3')\n",
    "ll = hp.load('/Users/veersaysit/Desktop/EELS data/Ge-basedSolarCell_24082015/EELS Spectrum Image disp0.2offset0time0.1s.dm3')"
   ]
  },
  {
   "cell_type": "code",
   "execution_count": 29,
   "metadata": {
    "collapsed": true
   },
   "outputs": [],
   "source": [
    "s.set_signal_type(\"EELS\")\n",
    "ll.set_signal_type(\"EELS\")"
   ]
  },
  {
   "cell_type": "code",
   "execution_count": 30,
   "metadata": {
    "collapsed": true
   },
   "outputs": [],
   "source": [
    "s.set_microscope_parameters(beam_energy=197,collection_angle=15,convergence_angle=16.6)\n",
    "ll.set_microscope_parameters(beam_energy=197,collection_angle=15,convergence_angle=16.6)"
   ]
  },
  {
   "cell_type": "code",
   "execution_count": 42,
   "metadata": {},
   "outputs": [
    {
     "data": {
      "application/vnd.jupyter.widget-view+json": {
       "model_id": "e0fe0fc09f4a4aa8bab326b4b4c6ad91"
      }
     },
     "metadata": {},
     "output_type": "display_data"
    }
   ],
   "source": [
    "hp.preferences.gui()"
   ]
  },
  {
   "cell_type": "code",
   "execution_count": 43,
   "metadata": {
    "collapsed": true
   },
   "outputs": [],
   "source": [
    "s.add_elements(('C','In','O'))"
   ]
  },
  {
   "cell_type": "code",
   "execution_count": 44,
   "metadata": {},
   "outputs": [
    {
     "data": {
      "text/plain": [
       "<EELSSpectrum, title: EELS Spectrum Image disp0.5offset250time0.5s, dimensions: (43, 90|1024)>"
      ]
     },
     "execution_count": 44,
     "metadata": {},
     "output_type": "execute_result"
    }
   ],
   "source": [
    "s = s.inav[:43,:90]\n",
    "###########s = s.rebin(scale=(1,1,1))\n",
    "s = s.rebin((43,90,1024))\n",
    "s"
   ]
  },
  {
   "cell_type": "code",
   "execution_count": 45,
   "metadata": {},
   "outputs": [
    {
     "data": {
      "text/plain": [
       "<EELSSpectrum, title: EELS Spectrum Image disp0.2offset0time0.1s, dimensions: (43, 90|409)>"
      ]
     },
     "execution_count": 45,
     "metadata": {},
     "output_type": "execute_result"
    }
   ],
   "source": [
    "ll = ll.inav[:43,:90]\n",
    "ll = ll.rebin((43,90,409))\n",
    "ll"
   ]
  },
  {
   "cell_type": "code",
   "execution_count": 46,
   "metadata": {
    "collapsed": true
   },
   "outputs": [],
   "source": [
    "#s1.data = numpy.tile(ll.sum(-1).data, [205, 1, 1])\n",
    "#ll.data = np.divide(ll.data,s.data)\n",
    "#ll.plot()"
   ]
  },
  {
   "cell_type": "code",
   "execution_count": 47,
   "metadata": {
    "collapsed": true
   },
   "outputs": [],
   "source": [
    "s.plot()\n",
    "#ll.plot()"
   ]
  },
  {
   "cell_type": "code",
   "execution_count": 48,
   "metadata": {
    "collapsed": true
   },
   "outputs": [],
   "source": [
    "#ll.data = ll.data/ll.sum(-1)\n",
    "#ll.plot()"
   ]
  },
  {
   "cell_type": "code",
   "execution_count": 49,
   "metadata": {},
   "outputs": [],
   "source": [
    "#s.add_elements(('C','In','O'))\n",
    "\n",
    "m = s.create_model()"
   ]
  },
  {
   "cell_type": "code",
   "execution_count": 50,
   "metadata": {},
   "outputs": [
    {
     "data": {
      "text/plain": [
       "<EELSModel, title: EELS Spectrum Image disp0.5offset250time0.5s>"
      ]
     },
     "execution_count": 50,
     "metadata": {},
     "output_type": "execute_result"
    }
   ],
   "source": [
    "m"
   ]
  },
  {
   "cell_type": "code",
   "execution_count": 51,
   "metadata": {},
   "outputs": [
    {
     "data": {
      "text/plain": [
       "   # |      Attribute Name |      Component Name |      Component Type\n",
       "---- | ------------------- | ------------------- | -------------------\n",
       "   0 |            PowerLaw |            PowerLaw |            PowerLaw\n",
       "   1 |                 O_K |                 O_K |          EELSCLEdge\n",
       "   2 |               In_M5 |               In_M5 |          EELSCLEdge\n",
       "   3 |               In_M4 |               In_M4 |          EELSCLEdge\n",
       "   4 |               In_M3 |               In_M3 |          EELSCLEdge\n",
       "   5 |               In_M2 |               In_M2 |          EELSCLEdge\n",
       "   6 |                 C_K |                 C_K |          EELSCLEdge"
      ]
     },
     "execution_count": 51,
     "metadata": {},
     "output_type": "execute_result"
    }
   ],
   "source": [
    "m.components"
   ]
  },
  {
   "cell_type": "code",
   "execution_count": 52,
   "metadata": {},
   "outputs": [
    {
     "data": {
      "application/vnd.jupyter.widget-view+json": {
       "model_id": "07edbe98d04245f4b8a16cefe35b38c7"
      }
     },
     "metadata": {},
     "output_type": "display_data"
    },
    {
     "name": "stdout",
     "output_type": "stream",
     "text": [
      "\n"
     ]
    }
   ],
   "source": [
    "m.multifit(kind='smart')"
   ]
  },
  {
   "cell_type": "code",
   "execution_count": 53,
   "metadata": {},
   "outputs": [
    {
     "name": "stdout",
     "output_type": "stream",
     "text": [
      "\n",
      "Absolute quantification:\n",
      "Elem.\tIntensity\n",
      "C\t2.341809\n",
      "In\t-2.678049\n",
      "O\t-6.211899\n"
     ]
    }
   ],
   "source": [
    "m.quantify()"
   ]
  },
  {
   "cell_type": "code",
   "execution_count": 55,
   "metadata": {},
   "outputs": [],
   "source": [
    "C = m.components.C_K.intensity.as_signal();"
   ]
  },
  {
   "cell_type": "code",
   "execution_count": 56,
   "metadata": {
    "collapsed": true
   },
   "outputs": [],
   "source": [
    "C.plot()"
   ]
  },
  {
   "cell_type": "code",
   "execution_count": 57,
   "metadata": {
    "collapsed": true
   },
   "outputs": [],
   "source": [
    "In_M5 = m.components.In_M5.intensity.as_signal()\n",
    "In_M4 = m.components.In_M4.intensity.as_signal()\n",
    "In_M3 = m.components.In_M3.intensity.as_signal()\n",
    "In_M2 = m.components.In_M2.intensity.as_signal()"
   ]
  },
  {
   "cell_type": "code",
   "execution_count": 64,
   "metadata": {},
   "outputs": [],
   "source": [
    "#In_M5.plot()\n",
    "In = In_M5+In_M4+In_M3+In_M2\n",
    "In.plot()"
   ]
  },
  {
   "cell_type": "code",
   "execution_count": 25,
   "metadata": {
    "collapsed": true
   },
   "outputs": [],
   "source": [
    "Cu = m.components.Cu_L3.intensity.as_signal()"
   ]
  },
  {
   "cell_type": "code",
   "execution_count": 26,
   "metadata": {
    "collapsed": true
   },
   "outputs": [],
   "source": [
    "Cu.plot()"
   ]
  },
  {
   "cell_type": "code",
   "execution_count": 27,
   "metadata": {},
   "outputs": [
    {
     "data": {
      "text/plain": [
       "   # |      Attribute Name |      Component Name |      Component Type\n",
       "---- | ------------------- | ------------------- | -------------------\n",
       "   0 |            PowerLaw |            PowerLaw |            PowerLaw\n",
       "   1 |               Ga_L3 |               Ga_L3 |          EELSCLEdge\n",
       "   2 |               Cu_L3 |               Cu_L3 |          EELSCLEdge\n",
       "   3 |               As_L3 |               As_L3 |          EELSCLEdge"
      ]
     },
     "execution_count": 27,
     "metadata": {},
     "output_type": "execute_result"
    }
   ],
   "source": [
    "m.components"
   ]
  },
  {
   "cell_type": "code",
   "execution_count": 33,
   "metadata": {
    "collapsed": true
   },
   "outputs": [],
   "source": [
    "#m.plot()"
   ]
  },
  {
   "cell_type": "code",
   "execution_count": 75,
   "metadata": {},
   "outputs": [
    {
     "data": {
      "text/plain": [
       "<Signal2D, title: intensity parameter of Ga_L3 component, dimensions: (|43, 90)>"
      ]
     },
     "execution_count": 75,
     "metadata": {},
     "output_type": "execute_result"
    }
   ],
   "source": [
    "Ga"
   ]
  },
  {
   "cell_type": "code",
   "execution_count": 30,
   "metadata": {
    "collapsed": true
   },
   "outputs": [],
   "source": [
    "import scipy.io as sio"
   ]
  },
  {
   "cell_type": "code",
   "execution_count": 31,
   "metadata": {
    "collapsed": true
   },
   "outputs": [],
   "source": [
    "sio.savemat(\"Cu_hspy_mlls\",{\"Cu_hspy_mlls\":Cu.data})\n",
    "sio.savemat(\"Ga_hspy_mlls\",{\"Ga_hspy_mlls\":Ga.data})\n",
    "sio.savemat(\"As_hspy_mlls\",{\"As_hspy_mlls\":As.data})"
   ]
  },
  {
   "cell_type": "code",
   "execution_count": null,
   "metadata": {
    "collapsed": true
   },
   "outputs": [],
   "source": []
  }
 ],
 "metadata": {
  "kernelspec": {
   "display_name": "Python 3",
   "language": "python",
   "name": "python3"
  },
  "language_info": {
   "codemirror_mode": {
    "name": "ipython",
    "version": 3
   },
   "file_extension": ".py",
   "mimetype": "text/x-python",
   "name": "python",
   "nbconvert_exporter": "python",
   "pygments_lexer": "ipython3",
   "version": "3.6.1"
  }
 },
 "nbformat": 4,
 "nbformat_minor": 2
}
