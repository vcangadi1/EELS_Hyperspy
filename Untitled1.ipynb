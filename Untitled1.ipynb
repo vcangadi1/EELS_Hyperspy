{
 "cells": [
  {
   "cell_type": "code",
   "execution_count": 1,
   "metadata": {
    "collapsed": true
   },
   "outputs": [],
   "source": [
    "import hyperspy"
   ]
  },
  {
   "cell_type": "code",
   "execution_count": 2,
   "metadata": {
    "collapsed": false
   },
   "outputs": [
    {
     "data": {
      "text/plain": [
       "'0.6'"
      ]
     },
     "execution_count": 2,
     "metadata": {},
     "output_type": "execute_result"
    }
   ],
   "source": [
    "hyperspy.__version__"
   ]
  },
  {
   "cell_type": "code",
   "execution_count": 3,
   "metadata": {
    "collapsed": false
   },
   "outputs": [
    {
     "name": "stderr",
     "output_type": "stream",
     "text": [
      "WARNING:hyperspy_gui_traitsui:The module://ipykernel.pylab.backend_inline matplotlib backend is not supported by the installed traitsui version and the ETS toolkit has been set to null. To set the ETS toolkit independently from the matplotlib backend, set it before importing matplotlib.\n",
      "WARNING:hyperspy_gui_traitsui:The traitsui GUI elements are not available.\n"
     ]
    }
   ],
   "source": [
    "import hyperspy.api as hp"
   ]
  },
  {
   "cell_type": "code",
   "execution_count": 4,
   "metadata": {
    "collapsed": true
   },
   "outputs": [],
   "source": [
    "S = hp.load('sum25_GaNseries1.dm3')"
   ]
  },
  {
   "cell_type": "code",
   "execution_count": 5,
   "metadata": {
    "collapsed": true
   },
   "outputs": [],
   "source": [
    "Z = hp.load('singleframeZL_1D_0.05.dm3')"
   ]
  },
  {
   "cell_type": "code",
   "execution_count": 6,
   "metadata": {
    "collapsed": true
   },
   "outputs": [],
   "source": [
    "S.set_signal_type(\"EELS\")"
   ]
  },
  {
   "cell_type": "code",
   "execution_count": 7,
   "metadata": {
    "collapsed": true
   },
   "outputs": [],
   "source": [
    "Z.set_signal_type(\"EELS\")"
   ]
  },
  {
   "cell_type": "code",
   "execution_count": 8,
   "metadata": {
    "collapsed": true
   },
   "outputs": [],
   "source": [
    "dS = S.richardson_lucy_deconvolution(Z,20,None,True,True)"
   ]
  },
  {
   "cell_type": "code",
   "execution_count": 9,
   "metadata": {
    "collapsed": true
   },
   "outputs": [],
   "source": [
    "import matplotlib"
   ]
  },
  {
   "cell_type": "code",
   "execution_count": 10,
   "metadata": {
    "collapsed": true
   },
   "outputs": [],
   "source": [
    "%matplotlib inline"
   ]
  },
  {
   "cell_type": "code",
   "execution_count": 47,
   "metadata": {
    "collapsed": true
   },
   "outputs": [],
   "source": [
    "S.plot()"
   ]
  },
  {
   "cell_type": "code",
   "execution_count": 48,
   "metadata": {
    "collapsed": false
   },
   "outputs": [
    {
     "name": "stdout",
     "output_type": "stream",
     "text": [
      "Warning: Cannot change to a different GUI toolkit: qt. Using qt5 instead.\n"
     ]
    }
   ],
   "source": [
    "%matplotlib qt"
   ]
  },
  {
   "cell_type": "code",
   "execution_count": 49,
   "metadata": {
    "collapsed": true
   },
   "outputs": [],
   "source": [
    "dS.plot()"
   ]
  },
  {
   "cell_type": "code",
   "execution_count": 51,
   "metadata": {
    "collapsed": false
   },
   "outputs": [
    {
     "data": {
      "text/plain": [
       "├── General\n",
       "│   ├── original_filename = sum25_GaNseries1.dm3\n",
       "│   └── title = sum25_GaNseries1 after Richardson-Lucy deconvolution 20 iterations\n",
       "└── Signal\n",
       "    ├── binned = True\n",
       "    ├── quantity = Intensity\n",
       "    └── signal_type = EELS"
      ]
     },
     "execution_count": 51,
     "metadata": {},
     "output_type": "execute_result"
    }
   ],
   "source": [
    "dS.metadata"
   ]
  },
  {
   "cell_type": "code",
   "execution_count": 52,
   "metadata": {
    "collapsed": false
   },
   "outputs": [
    {
     "name": "stdout",
     "output_type": "stream",
     "text": [
      "ADF_10kX_overview.dm3\r\n",
      "ADF_20kX_afterwards.dm3\r\n",
      "EELS Spectrum Image 16x16 0.2s 0.3eV 0offset.dm3\r\n",
      "EELS Spectrum Image 16x16 1s 0.5eV 78offset.dm3\r\n",
      "EELS Spectrum Image 20nm probe.dm3\r\n",
      "EELS Spectrum Image 25nm.dm3\r\n",
      "EELS Spectrum Image 32x32 0.1s 0.5eV 0offset.dm3\r\n",
      "EELS Spectrum Image disp0.2offset0time0.1s.dm3\r\n",
      "EELS Spectrum Image disp0.5offset250time0.5s.dm3\r\n",
      "EELS Spectrum Image disp1offset950time2s.dm3\r\n",
      "EELS Spectrum Image small disp0.1offset80time0.5s.dm3\r\n",
      "\u001b[31mEELS Spectrum Image1-thickness-map.dm3\u001b[m\u001b[m*\r\n",
      "Hyperspy_Richardson_lucy.ipynb\r\n",
      "LL_cal.msa\r\n",
      "Ni_superalloy_010.rpl\r\n",
      "S.txt\r\n",
      "SI Survey Image ADF 40KX 20nm spot.dm3\r\n",
      "SI Survey Image ADF 40kX 25nm spot 0.3disp 0.5s.dm3\r\n",
      "SI Survey Image first.dm3\r\n",
      "SI Survey Image.dm3\r\n",
      "TiFeNi_010.raw\r\n",
      "TiFeNi_011.raw\r\n",
      "TiFeNi_012.rpl\r\n",
      "Untitled.ipynb\r\n",
      "\u001b[34mUntitled.ipynbnw6qxl\u001b[m\u001b[m/\r\n",
      "Untitled0.ipynb\r\n",
      "Untitled0.ipynb4aakoh\r\n",
      "Untitled0.ipynb4r06eq\r\n",
      "Untitled0.ipynb7av78g\r\n",
      "Untitled0.ipynbbyhy2f\r\n",
      "Untitled0.ipynbifbzjs\r\n",
      "Untitled0.ipynbmt58qn\r\n",
      "Untitled0.ipynbo7iwbg\r\n",
      "Untitled0.ipynbpxqliv\r\n",
      "Untitled0.ipynbzvju1l\r\n",
      "Untitled1.ipynb\r\n",
      "Untitled2.ipynb\r\n",
      "Untitled2.ipynb3pafdf\r\n",
      "Untitled2.ipynbdtnodu\r\n",
      "Untitled2.ipynbuqnmtp\r\n",
      "Untitled2.ipynbuqobde\r\n",
      "Untitled4.ipynb\r\n",
      "hyperspy_log.py\r\n",
      "hyperspy_sample_code.ipynb\r\n",
      "image (0, 0).png\r\n",
      "image (0, 1).png\r\n",
      "image (1, 0).png\r\n",
      "image (1, 1).png\r\n",
      "image (2, 0).png\r\n",
      "image (2, 1).png\r\n",
      "image (3, 0).png\r\n",
      "image (3, 1).png\r\n",
      "image (4, 0).png\r\n",
      "image (4, 1).png\r\n",
      "image010.tif\r\n",
      "image011.tif\r\n",
      "singleframeZL_1D_0.05.dm3\r\n",
      "sum25_GaNseries1.dm3\r\n",
      "untitled.txt\r\n"
     ]
    }
   ],
   "source": [
    "ls"
   ]
  },
  {
   "cell_type": "code",
   "execution_count": 54,
   "metadata": {
    "collapsed": false
   },
   "outputs": [
    {
     "name": "stdout",
     "output_type": "stream",
     "text": [
      "Overwrite 'dS.msa' (y/n)?\n",
      "y\n"
     ]
    }
   ],
   "source": [
    "dS.save('dS.msa',encoding = 'utf8')"
   ]
  },
  {
   "cell_type": "code",
   "execution_count": 43,
   "metadata": {
    "collapsed": true
   },
   "outputs": [],
   "source": [
    "fS = S.fourier_log_deconvolution(eS,add_zlp=False,crop=False)"
   ]
  },
  {
   "cell_type": "code",
   "execution_count": 55,
   "metadata": {
    "collapsed": true
   },
   "outputs": [],
   "source": [
    "S.plot()"
   ]
  },
  {
   "cell_type": "code",
   "execution_count": 56,
   "metadata": {
    "collapsed": true
   },
   "outputs": [],
   "source": [
    "Z.plot()"
   ]
  },
  {
   "cell_type": "code",
   "execution_count": 57,
   "metadata": {
    "collapsed": true
   },
   "outputs": [],
   "source": [
    "eS.plot()"
   ]
  },
  {
   "cell_type": "code",
   "execution_count": 60,
   "metadata": {
    "collapsed": true
   },
   "outputs": [],
   "source": [
    "eZ = Z.power_law_extrapolation(window_size=20,extrapolation_size=1024)"
   ]
  },
  {
   "cell_type": "code",
   "execution_count": 61,
   "metadata": {
    "collapsed": true
   },
   "outputs": [],
   "source": [
    "eZ.plot()"
   ]
  },
  {
   "cell_type": "code",
   "execution_count": 62,
   "metadata": {
    "collapsed": true
   },
   "outputs": [],
   "source": [
    "edS = eS.richardson_lucy_deconvolution(iterations=20,mask=None,psf=eZ)"
   ]
  },
  {
   "cell_type": "code",
   "execution_count": 63,
   "metadata": {
    "collapsed": true
   },
   "outputs": [],
   "source": [
    "edS.plot()"
   ]
  },
  {
   "cell_type": "code",
   "execution_count": 64,
   "metadata": {
    "collapsed": true
   },
   "outputs": [],
   "source": [
    "edS.save(filename='edS.msa')"
   ]
  },
  {
   "cell_type": "code",
   "execution_count": 65,
   "metadata": {
    "collapsed": true
   },
   "outputs": [],
   "source": [
    "eS.save(filename='eS.msa')"
   ]
  },
  {
   "cell_type": "code",
   "execution_count": 66,
   "metadata": {
    "collapsed": true
   },
   "outputs": [],
   "source": [
    "eZ.save(filename='eZ.msa')"
   ]
  },
  {
   "cell_type": "code",
   "execution_count": 68,
   "metadata": {
    "collapsed": false
   },
   "outputs": [
    {
     "ename": "TypeError",
     "evalue": "estimate_thickness() missing 1 required positional argument: 'threshold'",
     "output_type": "error",
     "traceback": [
      "\u001b[0;31m---------------------------------------------------------------------------\u001b[0m",
      "\u001b[0;31mTypeError\u001b[0m                                 Traceback (most recent call last)",
      "\u001b[0;32m<ipython-input-68-ae2fe77face2>\u001b[0m in \u001b[0;36m<module>\u001b[0;34m()\u001b[0m\n\u001b[0;32m----> 1\u001b[0;31m \u001b[0mS\u001b[0m\u001b[0;34m.\u001b[0m\u001b[0mestimate_thickness\u001b[0m\u001b[0;34m(\u001b[0m\u001b[0mzlp\u001b[0m\u001b[0;34m=\u001b[0m\u001b[0mZ\u001b[0m\u001b[0;34m)\u001b[0m\u001b[0;34m\u001b[0m\u001b[0m\n\u001b[0m",
      "\u001b[0;31mTypeError\u001b[0m: estimate_thickness() missing 1 required positional argument: 'threshold'"
     ]
    }
   ],
   "source": [
    "S.estimate_thickness(zlp=Z)"
   ]
  },
  {
   "cell_type": "code",
   "execution_count": 69,
   "metadata": {
    "collapsed": true
   },
   "outputs": [],
   "source": [
    "S.plot()"
   ]
  },
  {
   "cell_type": "code",
   "execution_count": 74,
   "metadata": {
    "collapsed": true
   },
   "outputs": [],
   "source": [
    "t = S.estimate_thickness(threshold=185,zlp=Z)"
   ]
  },
  {
   "cell_type": "code",
   "execution_count": 77,
   "metadata": {
    "collapsed": false
   },
   "outputs": [
    {
     "name": "stdout",
     "output_type": "stream",
     "text": [
      "<BaseSignal, title: sum25_GaNseries1 $\\frac{t}{\\lambda}$, dimensions: (1|)>\n"
     ]
    }
   ],
   "source": [
    "print(t)"
   ]
  },
  {
   "cell_type": "code",
   "execution_count": 78,
   "metadata": {
    "collapsed": false
   },
   "outputs": [
    {
     "name": "stderr",
     "output_type": "stream",
     "text": [
      "/Applications/anaconda/lib/python3.6/site-packages/matplotlib/axes/_base.py:2917: UserWarning: Attempting to set identical left==right results\n",
      "in singular transformations; automatically expanding.\n",
      "left=0.0, right=0.0\n",
      "  'left=%s, right=%s') % (left, right))\n"
     ]
    }
   ],
   "source": [
    "t.plot()"
   ]
  },
  {
   "cell_type": "code",
   "execution_count": null,
   "metadata": {
    "collapsed": true
   },
   "outputs": [],
   "source": []
  }
 ],
 "metadata": {
  "kernelspec": {
   "display_name": "Python 2",
   "language": "python",
   "name": "python2"
  },
  "language_info": {
   "codemirror_mode": {
    "name": "ipython",
    "version": 2
   },
   "file_extension": ".py",
   "mimetype": "text/x-python",
   "name": "python",
   "nbconvert_exporter": "python",
   "pygments_lexer": "ipython2",
   "version": "2.7.6"
  }
 },
 "nbformat": 4,
 "nbformat_minor": 1
}
