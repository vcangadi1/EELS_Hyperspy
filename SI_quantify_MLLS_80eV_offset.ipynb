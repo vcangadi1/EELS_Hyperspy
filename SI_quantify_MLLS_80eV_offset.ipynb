{
 "cells": [
  {
   "cell_type": "code",
   "execution_count": 1,
   "metadata": {},
   "outputs": [
    {
     "name": "stdout",
     "output_type": "stream",
     "text": [
      "\n",
      "Logging is active\n",
      "The log is stored in the hyperspy_log.py file in the current directory\n"
     ]
    },
    {
     "name": "stderr",
     "output_type": "stream",
     "text": [
      "WARNING:hyperspy.api:The traitsui GUI elements are not available, probably because the hyperspy_gui_traitui package is not installed.\n"
     ]
    }
   ],
   "source": [
    "import hyperspy.api as hp\n",
    "import numpy as np\n",
    "import numpy.matlib\n",
    "%matplotlib qt5"
   ]
  },
  {
   "cell_type": "code",
   "execution_count": 15,
   "metadata": {},
   "outputs": [
    {
     "name": "stderr",
     "output_type": "stream",
     "text": [
      "WARNING:hyperspy.signal:<EELSSpectrum, title: EELS Spectrum Image small disp0.1offset80time0.5s, dimensions: (22, 45|1024)> data is replaced by its optimized copy\n",
      "WARNING:hyperspy.signal:<EELSSpectrum, title: EELS Spectrum Image disp0.2offset0time0.1s, dimensions: (44, 90|1024)> data is replaced by its optimized copy\n"
     ]
    }
   ],
   "source": [
    "s = hp.load('/Users/veersaysit/Desktop/EELS data/Ge-basedSolarCell_24082015/EELS Spectrum Image small disp0.1offset80time0.5s.dm3')\n",
    "ll = hp.load('/Users/veersaysit/Desktop/EELS data/Ge-basedSolarCell_24082015/EELS Spectrum Image disp0.2offset0time0.1s.dm3')"
   ]
  },
  {
   "cell_type": "code",
   "execution_count": 16,
   "metadata": {
    "collapsed": true
   },
   "outputs": [],
   "source": [
    "s.set_signal_type(\"EELS\")\n",
    "ll.set_signal_type(\"EELS\")"
   ]
  },
  {
   "cell_type": "code",
   "execution_count": 17,
   "metadata": {
    "collapsed": true
   },
   "outputs": [],
   "source": [
    "s.set_microscope_parameters(beam_energy=197,collection_angle=15,convergence_angle=16.6)\n",
    "ll.set_microscope_parameters(beam_energy=197,collection_angle=15,convergence_angle=16.6)"
   ]
  },
  {
   "cell_type": "code",
   "execution_count": 18,
   "metadata": {},
   "outputs": [
    {
     "data": {
      "application/vnd.jupyter.widget-view+json": {
       "model_id": "c2df21e55758498488cc22346554fa2f"
      }
     },
     "metadata": {},
     "output_type": "display_data"
    }
   ],
   "source": [
    "hp.preferences.gui()"
   ]
  },
  {
   "cell_type": "code",
   "execution_count": 19,
   "metadata": {
    "collapsed": true
   },
   "outputs": [],
   "source": [
    "s.add_elements(('Al','Si','P'))"
   ]
  },
  {
   "cell_type": "code",
   "execution_count": 21,
   "metadata": {},
   "outputs": [
    {
     "data": {
      "text/plain": [
       "<EELSSpectrum, title: EELS Spectrum Image small disp0.1offset80time0.5s, dimensions: (22, 45|1024)>"
      ]
     },
     "execution_count": 21,
     "metadata": {},
     "output_type": "execute_result"
    }
   ],
   "source": [
    "#s = s.inav[:43,:90]\n",
    "###########s = s.rebin(scale=(1,1,1))\n",
    "#s = s.rebin((43,90,1024))\n",
    "s"
   ]
  },
  {
   "cell_type": "code",
   "execution_count": 22,
   "metadata": {},
   "outputs": [
    {
     "data": {
      "text/plain": [
       "<EELSSpectrum, title: EELS Spectrum Image disp0.2offset0time0.1s, dimensions: (22, 45|2048)>"
      ]
     },
     "execution_count": 22,
     "metadata": {},
     "output_type": "execute_result"
    }
   ],
   "source": [
    "ll = ll.inav[:22,:45]\n",
    "ll = ll.rebin((22,45,2048))\n",
    "ll"
   ]
  },
  {
   "cell_type": "code",
   "execution_count": 23,
   "metadata": {
    "collapsed": true
   },
   "outputs": [],
   "source": [
    "#s1.data = numpy.tile(ll.sum(-1).data, [205, 1, 1])\n",
    "#ll.data = np.divide(ll.data,s.data)\n",
    "#ll.plot()"
   ]
  },
  {
   "cell_type": "code",
   "execution_count": 24,
   "metadata": {},
   "outputs": [
    {
     "name": "stderr",
     "output_type": "stream",
     "text": [
      "WARNING:hyperspy.signal:<Signal2D, title: EELS Spectrum Image disp0.2offset0time0.1s, dimensions: (|22, 45)> data is replaced by its optimized copy\n"
     ]
    }
   ],
   "source": [
    "#s.plot()\n",
    "ll.plot()"
   ]
  },
  {
   "cell_type": "code",
   "execution_count": 25,
   "metadata": {
    "collapsed": true
   },
   "outputs": [],
   "source": [
    "#ll.data = ll.data/ll.sum(-1)\n",
    "#ll.plot()"
   ]
  },
  {
   "cell_type": "code",
   "execution_count": 26,
   "metadata": {},
   "outputs": [],
   "source": [
    "#s.add_elements(('C','In','O'))\n",
    "\n",
    "m = s.create_model(ll=ll)"
   ]
  },
  {
   "cell_type": "code",
   "execution_count": 27,
   "metadata": {},
   "outputs": [
    {
     "data": {
      "text/plain": [
       "<EELSModel, title: EELS Spectrum Image small disp0.1offset80time0.5s>"
      ]
     },
     "execution_count": 27,
     "metadata": {},
     "output_type": "execute_result"
    }
   ],
   "source": [
    "m"
   ]
  },
  {
   "cell_type": "code",
   "execution_count": 28,
   "metadata": {},
   "outputs": [
    {
     "data": {
      "text/plain": [
       "   # |      Attribute Name |      Component Name |      Component Type\n",
       "---- | ------------------- | ------------------- | -------------------\n",
       "   0 |            PowerLaw |            PowerLaw |            PowerLaw\n",
       "   1 |               Si_L3 |               Si_L3 |          EELSCLEdge\n",
       "   2 |               Si_L2 |               Si_L2 |          EELSCLEdge\n",
       "   3 |               Si_L1 |               Si_L1 |          EELSCLEdge\n",
       "   4 |                P_L3 |                P_L3 |          EELSCLEdge\n",
       "   5 |               Al_L3 |               Al_L3 |          EELSCLEdge\n",
       "   6 |               Al_L1 |               Al_L1 |          EELSCLEdge"
      ]
     },
     "execution_count": 28,
     "metadata": {},
     "output_type": "execute_result"
    }
   ],
   "source": [
    "m.components"
   ]
  },
  {
   "cell_type": "code",
   "execution_count": 29,
   "metadata": {},
   "outputs": [
    {
     "data": {
      "application/vnd.jupyter.widget-view+json": {
       "model_id": "7d52d9064c3f49bc9213f968f26b81b6"
      }
     },
     "metadata": {},
     "output_type": "display_data"
    },
    {
     "name": "stdout",
     "output_type": "stream",
     "text": [
      "\n"
     ]
    }
   ],
   "source": [
    "m.multifit(kind='smart')"
   ]
  },
  {
   "cell_type": "code",
   "execution_count": 30,
   "metadata": {},
   "outputs": [
    {
     "name": "stdout",
     "output_type": "stream",
     "text": [
      "\n",
      "Absolute quantification:\n",
      "Elem.\tIntensity\n",
      "Al\t0.000000\n",
      "Si\t0.000000\n",
      "P\t0.000000\n"
     ]
    }
   ],
   "source": [
    "m.quantify()"
   ]
  },
  {
   "cell_type": "code",
   "execution_count": 37,
   "metadata": {},
   "outputs": [],
   "source": [
    "Al_L3 = m.components.Al_L3.intensity.as_signal();\n",
    "Al_L3.plot()"
   ]
  },
  {
   "cell_type": "code",
   "execution_count": 38,
   "metadata": {},
   "outputs": [],
   "source": [
    "Al_L1 = m.components.Al_L1.intensity.as_signal();\n",
    "Al_L1.plot()"
   ]
  },
  {
   "cell_type": "code",
   "execution_count": 40,
   "metadata": {
    "collapsed": true
   },
   "outputs": [],
   "source": [
    "Al = (Al_L3+Al_L1)\n",
    "Al.plot()"
   ]
  },
  {
   "cell_type": "code",
   "execution_count": 43,
   "metadata": {
    "collapsed": true
   },
   "outputs": [],
   "source": [
    "Si_L3 = m.components.Si_L3.intensity.as_signal()\n",
    "Si_L2 = m.components.Si_L2.intensity.as_signal()\n",
    "Si_L1 = m.components.Si_L1.intensity.as_signal()\n",
    "Si = (Si_L3+Si_L2+Si_L1)"
   ]
  },
  {
   "cell_type": "code",
   "execution_count": 44,
   "metadata": {},
   "outputs": [],
   "source": [
    "Si.plot()"
   ]
  },
  {
   "cell_type": "code",
   "execution_count": 48,
   "metadata": {
    "collapsed": true
   },
   "outputs": [],
   "source": [
    "P = m.components.P_L3.intensity.as_signal()\n",
    "P.plot()"
   ]
  },
  {
   "cell_type": "code",
   "execution_count": 49,
   "metadata": {},
   "outputs": [
    {
     "data": {
      "text/plain": [
       "   # |      Attribute Name |      Component Name |      Component Type\n",
       "---- | ------------------- | ------------------- | -------------------\n",
       "   0 |            PowerLaw |            PowerLaw |            PowerLaw\n",
       "   1 |               Si_L3 |               Si_L3 |          EELSCLEdge\n",
       "   2 |               Si_L2 |               Si_L2 |          EELSCLEdge\n",
       "   3 |               Si_L1 |               Si_L1 |          EELSCLEdge\n",
       "   4 |                P_L3 |                P_L3 |          EELSCLEdge\n",
       "   5 |               Al_L3 |               Al_L3 |          EELSCLEdge\n",
       "   6 |               Al_L1 |               Al_L1 |          EELSCLEdge"
      ]
     },
     "execution_count": 49,
     "metadata": {},
     "output_type": "execute_result"
    }
   ],
   "source": [
    "m.components"
   ]
  },
  {
   "cell_type": "code",
   "execution_count": 50,
   "metadata": {
    "collapsed": true
   },
   "outputs": [],
   "source": [
    "m.plot()"
   ]
  },
  {
   "cell_type": "code",
   "execution_count": 51,
   "metadata": {},
   "outputs": [
    {
     "data": {
      "text/plain": [
       "<Signal2D, title: intensity parameter of P_L3 component, dimensions: (|22, 45)>"
      ]
     },
     "execution_count": 51,
     "metadata": {},
     "output_type": "execute_result"
    }
   ],
   "source": [
    "P"
   ]
  },
  {
   "cell_type": "code",
   "execution_count": 52,
   "metadata": {
    "collapsed": true
   },
   "outputs": [],
   "source": [
    "import scipy.io as sio"
   ]
  },
  {
   "cell_type": "code",
   "execution_count": 53,
   "metadata": {
    "collapsed": true
   },
   "outputs": [],
   "source": [
    "sio.savemat(\"Al_hspy_mlls\",{\"Al_hspy_mlls\":Al.data})\n",
    "sio.savemat(\"Si_hspy_mlls\",{\"Si_hspy_mlls\":Si.data})\n",
    "sio.savemat(\"P_hspy_mlls\",{\"P_hspy_mlls\":P.data})"
   ]
  },
  {
   "cell_type": "code",
   "execution_count": null,
   "metadata": {
    "collapsed": true
   },
   "outputs": [],
   "source": []
  }
 ],
 "metadata": {
  "kernelspec": {
   "display_name": "Python 3",
   "language": "python",
   "name": "python3"
  },
  "language_info": {
   "codemirror_mode": {
    "name": "ipython",
    "version": 3
   },
   "file_extension": ".py",
   "mimetype": "text/x-python",
   "name": "python",
   "nbconvert_exporter": "python",
   "pygments_lexer": "ipython3",
   "version": "3.6.1"
  }
 },
 "nbformat": 4,
 "nbformat_minor": 2
}
